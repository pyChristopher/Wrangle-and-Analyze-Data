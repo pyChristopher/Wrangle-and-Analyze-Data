{
 "cells": [
  {
   "cell_type": "markdown",
   "metadata": {},
   "source": [
    "# Wrangle and Analyze Data\n",
    "\n",
    "Udacity Data Analyst May 2019. \n",
    "\n",
    "[Click to preview report](https://cdn.rawgit.com/latinacode/Wrangle-and-Analyze-Data/f3a9b664/act_report.pdf)"
   ]
  },
  {
   "cell_type": "markdown",
   "metadata": {},
   "source": [
    "# Project Overview\n",
    "## Introduction\n",
    "The dataset that I will be wrangling (and analyzing and visualizing) is the tweet archive of Twitter user @dog_rates, also known as WeRateDogs. WeRateDogs is a Twitter account that rates people's dogs with a humorous comment about the dog. These ratings almost always have a denominator of 10. The numerators, though? Almost always greater than 10. 11/10, 12/10, 13/10, etc. Why? Because \"they're good dogs Brent.\" WeRateDogs has over 6 million followers and has received international media coverage.\n",
    "\n",
    "WeRateDogs downloaded their Twitter archive and sent it to Udacity via email exclusively to use in this project. This archive contains basic tweet data (tweet ID, timestamp, text, etc.) for all 5000+ of their tweets as they stood on August 1, 2017. \n",
    "\n",
    "## What Software Do I Need?\n",
    "\n",
    "- You need to be able to work in a Jupyter Notebook on your computer. P\n",
    "- The following packages (libraries) need to be installed. You can install these packages via conda or pip. Please revisit our Anaconda tutorial earlier in the Nanodegree program for package installation instructions.\n",
    "  - pandas\n",
    "  - NumPy\n",
    "  - requests\n",
    "  - tweepy\n",
    "  - json\n",
    "\n",
    "- You need to be able to create written documents that contain images and you need to be able to export these documents as PDF files. \n",
    "\n",
    "# Project Specifications\n",
    "## Code Functionality and Readability\n",
    "\n",
    "- All project code is contained in a Jupyter Notebook named Christopher_Patrick_wrangle_act.ipynb and runs without errors.\n",
    "- The Jupyter Notebook has an intuitive, easy-to-follow logical structure. The code uses comments effectively and is interspersed with Jupyter Notebook Markdown cells. The steps of the data wrangling process (i.e. gather, assess, and clean) are clearly identified with comments or Markdown cells, as well.\n",
    "\n",
    "## Gathering Data\n",
    "\n",
    "Data is successfully gathered:\n",
    "- From at least the three (3) different sources on the Project Details page.\n",
    "- In at least the three (3) different file formats on the Project Details page.\n",
    "\n",
    "Each piece of data is imported into a separate pandas DataFrame at first.\n",
    "\n",
    "## Assessing Data\n",
    "\n",
    "1. Two types of assessment are used:\n",
    "   - Visual assessment: each piece of gathered data is displayed in the Jupyter Notebook for visual assessment purposes. Once displayed, data can additionally be assessed in an external application (e.g. Excel, text editor).\n",
    "   - Programmatic assessment: pandas' functions and/or methods are used to assess the data.\n",
    "2. At least eight (8) data quality issues and two (2) tidiness issues are detected, and include the issues to clean to satisfy the Project Motivation. Each issue is documented in one to a few sentences each.\n",
    "\n",
    "## Cleaning Data\n",
    "- The define, code, and test steps of the cleaning process are clearly documented.\n",
    "- Copies of the original pieces of data are made prior to cleaning.\n",
    "- All issues identified in the assess phase are successfully cleaned using Python and pandas.\n",
    "- A tidy master dataset with all pieces of gathered data is created.\n",
    "\n",
    "## Storing and Acting on Wrangled Data\n",
    "- Save master dataset to a CSV file.\n",
    "- The master dataset is analyzed using pandas in the Jupyter Notebook and at least three (3) separate insights are produced.\n",
    "- At least one (1) labeled visualization is produced in the Jupyter Notebook using Python’s plotting libraries.\n",
    "\n",
    "## Report\n",
    "Two reports:\n",
    "- Wwrangling efforts are briefly described in wrangle_report.pdf.\n",
    "- The three (3) or more insights the student found are communicated in act_report.pdf including visualization.\n"
   ]
  }
 ],
 "metadata": {
  "kernelspec": {
   "display_name": "Python 3",
   "language": "python",
   "name": "python3"
  },
  "language_info": {
   "codemirror_mode": {
    "name": "ipython",
    "version": 3
   },
   "file_extension": ".py",
   "mimetype": "text/x-python",
   "name": "python",
   "nbconvert_exporter": "python",
   "pygments_lexer": "ipython3",
   "version": "3.6.7"
  }
 },
 "nbformat": 4,
 "nbformat_minor": 2
}
